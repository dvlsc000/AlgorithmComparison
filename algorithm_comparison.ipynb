{
 "cells": [
  {
   "cell_type": "markdown",
   "metadata": {},
   "source": [
    "# Classification on Custom Sensor Dataset\n",
    "\n",
    "This notebook demonstrates how to:\n",
    "- Load data from custom files: \"dataset.txt\", \"features\", and \"targets\"\n",
    "- Perform exploratory data analysis and preprocessing\n",
    "- Scale features and split data for training/testing\n",
    " - Train and evaluate four classifiers: SVM, Logistic Regression, Random Forest, and kNN\n",
    "\n",
    "**Files Expected:**\n",
    " - dataset.txt: Contains the sensor readings, whitespace-delimited.\n",
    " - features: Contains feature indices and names (e.g., \"1 tBodyAcc-mean()-X\").\n",
    " - targets: Contains one target label per row."
   ]
  },
  {
   "cell_type": "code",
   "execution_count": null,
   "metadata": {},
   "outputs": [],
   "source": [
    "# Import required libraries\n",
    "import numpy as np\n",
    "import matplotlib.pyplot as plt\n",
    "import seaborn as sns\n",
    "\n",
    "from sklearn.preprocessing import StandardScaler\n",
    "from sklearn.model_selection import train_test_split, cross_val_score\n",
    "from sklearn.metrics import accuracy_score, classification_report, confusion_matrix\n",
    "\n",
    "from sklearn.svm import SVC\n",
    "from sklearn.linear_model import LogisticRegression\n",
    "from sklearn.ensemble import RandomForestClassifier\n",
    "from sklearn.neighbors import KNeighborsClassifier\n",
    "\n",
    "import warnings\n",
    "warnings.filterwarnings(\"ignore\")"
   ]
  },
  {
   "cell_type": "markdown",
   "metadata": {},
   "source": [
    "## 1. Data Loading\n",
    "\n",
    "Read the feature matrix, feature names, and target labels from the provided files.\n"
   ]
  },
  {
   "cell_type": "markdown",
   "metadata": {},
   "source": []
  },
  {
   "cell_type": "code",
   "execution_count": 7,
   "metadata": {},
   "outputs": [
    {
     "name": "stderr",
     "output_type": "stream",
     "text": [
      "C:\\Users\\dvlas\\AppData\\Local\\Temp\\ipykernel_8544\\3321124904.py:9: FutureWarning: The 'delim_whitespace' keyword in pd.read_csv is deprecated and will be removed in a future version. Use ``sep='\\s+'`` instead\n",
      "  X = pd.read_csv(dataset_file, delim_whitespace=True, header=None)\n"
     ]
    },
    {
     "name": "stdout",
     "output_type": "stream",
     "text": [
      "Dataset shape: (10299, 561)\n",
      "Targets shape: (10299, 1)\n"
     ]
    }
   ],
   "source": [
    "import pandas as pd\n",
    "\n",
    "# File paths for the dataset\n",
    "dataset_file = 'dataset.txt'\n",
    "features_file = 'features.txt'\n",
    "targets_file = 'targets.txt'\n",
    "\n",
    "# Load the feature data (assuming whitespace-delimited, no header)\n",
    "X = pd.read_csv(dataset_file, delim_whitespace=True, header=None)\n",
    "print(\"Dataset shape:\", X.shape)\n",
    "\n",
    "# Load feature names: assuming each line is like \"1 tBodyAcc-mean()-X\"\n",
    "features_df = pd.read_csv(features_file, header=None, names=['index', 'feature'])\n",
    "feature_names = features_df['feature'].tolist()\n",
    "\n",
    "# Assign the feature names to X's columns (if they match in number)\n",
    "if len(feature_names) == X.shape[1]:\n",
    "    X.columns = feature_names\n",
    "else:\n",
    "    print(\"Warning: Number of feature names does not match the number of columns in dataset.\")\n",
    "\n",
    "\n",
    "# Load targets (labels)\n",
    "y = pd.read_csv(targets_file, header=None, names=['target'])\n",
    "print(\"Targets shape:\", y.shape)"
   ]
  },
  {
   "cell_type": "code",
   "execution_count": null,
   "metadata": {},
   "outputs": [],
   "source": []
  }
 ],
 "metadata": {
  "kernelspec": {
   "display_name": "base",
   "language": "python",
   "name": "python3"
  },
  "language_info": {
   "codemirror_mode": {
    "name": "ipython",
    "version": 3
   },
   "file_extension": ".py",
   "mimetype": "text/x-python",
   "name": "python",
   "nbconvert_exporter": "python",
   "pygments_lexer": "ipython3",
   "version": "3.12.3"
  }
 },
 "nbformat": 4,
 "nbformat_minor": 2
}
