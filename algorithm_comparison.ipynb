{
 "cells": [
  {
   "cell_type": "markdown",
   "metadata": {},
   "source": [
    "# Classification on Custom Sensor Dataset\n",
    "\n",
    "This notebook demonstrates how to:\n",
    "- Load data from custom files: \"dataset.txt\", \"features\", and \"targets\"\n",
    "- Perform exploratory data analysis and preprocessing\n",
    "- Scale features and split data for training/testing\n",
    " - Train and evaluate four classifiers: SVM, Logistic Regression, Random Forest, and kNN\n",
    "\n",
    "**Files Expected:**\n",
    " - dataset.txt: Contains the sensor readings, whitespace-delimited.\n",
    " - features: Contains feature indices and names (e.g., \"1 tBodyAcc-mean()-X\").\n",
    " - targets: Contains one target label per row."
   ]
  },
  {
   "cell_type": "code",
   "execution_count": null,
   "metadata": {},
   "outputs": [],
   "source": [
    "# Import required libraries\n",
    "import numpy as np\n",
    "import pandas as pd\n",
    "import matplotlib.pyplot as plt\n",
    "import seaborn as sns\n",
    "\n",
    "from sklearn.preprocessing import StandardScaler\n",
    "from sklearn.model_selection import train_test_split, cross_val_score\n",
    "from sklearn.metrics import accuracy_score, classification_report, confusion_matrix\n",
    "\n",
    "from sklearn.svm import SVC\n",
    "from sklearn.linear_model import LogisticRegression\n",
    "from sklearn.ensemble import RandomForestClassifier\n",
    "from sklearn.neighbors import KNeighborsClassifier\n",
    "\n",
    "import warnings\n",
    "warnings.filterwarnings(\"ignore\")"
   ]
  },
  {
   "cell_type": "markdown",
   "metadata": {},
   "source": []
  }
 ],
 "metadata": {
  "kernelspec": {
   "display_name": "base",
   "language": "python",
   "name": "python3"
  },
  "language_info": {
   "name": "python",
   "version": "3.12.3"
  }
 },
 "nbformat": 4,
 "nbformat_minor": 2
}
