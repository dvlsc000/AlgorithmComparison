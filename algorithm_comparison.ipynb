{
 "cells": [
  {
   "cell_type": "markdown",
   "metadata": {},
   "source": [
    "# Classification on Custom Sensor Dataset\n",
    "\n",
    "This notebook demonstrates how to:\n",
    "- Load data from custom files: \"dataset.txt\", \"features\", and \"targets\"\n",
    "- Perform exploratory data analysis and preprocessing\n",
    "- Scale features and split data for training/testing\n",
    " - Train and evaluate four classifiers: SVM, Logistic Regression, Random Forest, and kNN\n",
    "\n",
    "**Files Expected:**\n",
    " - dataset.txt: Contains the sensor readings, whitespace-delimited.\n",
    " - features: Contains feature indices and names (e.g., \"1 tBodyAcc-mean()-X\").\n",
    " - targets: Contains one target label per row."
   ]
  },
  {
   "cell_type": "code",
   "execution_count": null,
   "metadata": {},
   "outputs": [],
   "source": [
    "# Import required libraries\n",
    "import numpy as np\n",
    "\n",
    "from sklearn.model_selection import train_test_split, cross_val_score\n",
    "from sklearn.metrics import accuracy_score, classification_report, confusion_matrix\n",
    "\n",
    "from sklearn.svm import SVC\n",
    "from sklearn.linear_model import LogisticRegression\n",
    "from sklearn.ensemble import RandomForestClassifier\n",
    "from sklearn.neighbors import KNeighborsClassifier\n",
    "\n",
    "import warnings\n",
    "warnings.filterwarnings(\"ignore\")"
   ]
  },
  {
   "cell_type": "markdown",
   "metadata": {},
   "source": [
    "## 1. Data Loading\n",
    "\n",
    "Read the feature matrix, feature names, and target labels from the provided files.\n"
   ]
  },
  {
   "cell_type": "markdown",
   "metadata": {},
   "source": []
  },
  {
   "cell_type": "code",
   "execution_count": null,
   "metadata": {},
   "outputs": [
    {
     "name": "stderr",
     "output_type": "stream",
     "text": [
      "C:\\Users\\dvlas\\AppData\\Local\\Temp\\ipykernel_8544\\3321124904.py:9: FutureWarning: The 'delim_whitespace' keyword in pd.read_csv is deprecated and will be removed in a future version. Use ``sep='\\s+'`` instead\n",
      "  X = pd.read_csv(dataset_file, delim_whitespace=True, header=None)\n"
     ]
    },
    {
     "name": "stdout",
     "output_type": "stream",
     "text": [
      "Dataset shape: (10299, 561)\n",
      "Targets shape: (10299, 1)\n"
     ]
    }
   ],
   "source": [
    "import pandas as pd\n",
    "\n",
    "# File paths for the dataset\n",
    "dataset_file = 'dataset.txt'\n",
    "features_file = 'features.txt'\n",
    "targets_file = 'targets.txt'\n",
    "\n",
    "# Load the feature data (assuming whitespace-delimited, no header)\n",
    "X = pd.read_csv(dataset_file, delim_whitespace=True, header=None)\n",
    "print(\"Dataset shape:\", X.shape)\n",
    "\n",
    "# Load feature names: assuming each line is like \"1 tBodyAcc-mean()-X\"\n",
    "features_df = pd.read_csv(features_file, header=None, names=['index', 'feature'])\n",
    "feature_names = features_df['feature'].tolist()\n",
    "\n",
    "# Assign the feature names to X's columns (if they match in number)\n",
    "if len(feature_names) == X.shape[1]:\n",
    "    X.columns = feature_names\n",
    "else:\n",
    "    print(\"Warning: Number of feature names does not match the number of columns in dataset.\")\n",
    "\n",
    "# Load targets (labels)\n",
    "y = pd.read_csv(targets_file, header=None, names=['target'])\n",
    "print(\"Targets shape:\", y.shape)"
   ]
  },
  {
   "cell_type": "markdown",
   "metadata": {},
   "source": [
    "## 2. Exploratory Data Analysis (EDA)\n",
    "\n",
    "Checking for missing values and examine the distribution of target classes."
   ]
  },
  {
   "cell_type": "code",
   "execution_count": null,
   "metadata": {},
   "outputs": [
    {
     "name": "stdout",
     "output_type": "stream",
     "text": [
      "Missing values in features: 0\n",
      "Missing values in targets: 0\n"
     ]
    }
   ],
   "source": [
    "# Check for missing values in features and targets\n",
    "print(\"Missing values in features:\", X.isnull().sum().sum())\n",
    "print(\"Missing values in targets:\", y.isnull().sum().sum())"
   ]
  },
  {
   "cell_type": "code",
   "execution_count": 9,
   "metadata": {},
   "outputs": [
    {
     "data": {
      "text/html": [
       "<div>\n",
       "<style scoped>\n",
       "    .dataframe tbody tr th:only-of-type {\n",
       "        vertical-align: middle;\n",
       "    }\n",
       "\n",
       "    .dataframe tbody tr th {\n",
       "        vertical-align: top;\n",
       "    }\n",
       "\n",
       "    .dataframe thead th {\n",
       "        text-align: right;\n",
       "    }\n",
       "</style>\n",
       "<table border=\"1\" class=\"dataframe\">\n",
       "  <thead>\n",
       "    <tr style=\"text-align: right;\">\n",
       "      <th></th>\n",
       "      <th>count</th>\n",
       "      <th>mean</th>\n",
       "      <th>std</th>\n",
       "      <th>min</th>\n",
       "      <th>25%</th>\n",
       "      <th>50%</th>\n",
       "      <th>75%</th>\n",
       "      <th>max</th>\n",
       "    </tr>\n",
       "  </thead>\n",
       "  <tbody>\n",
       "    <tr>\n",
       "      <th>NaN</th>\n",
       "      <td>10299.0</td>\n",
       "      <td>0.274347</td>\n",
       "      <td>0.067628</td>\n",
       "      <td>-1.0</td>\n",
       "      <td>0.262625</td>\n",
       "      <td>0.277174</td>\n",
       "      <td>0.288354</td>\n",
       "      <td>1.0</td>\n",
       "    </tr>\n",
       "    <tr>\n",
       "      <th>NaN</th>\n",
       "      <td>10299.0</td>\n",
       "      <td>-0.017743</td>\n",
       "      <td>0.037128</td>\n",
       "      <td>-1.0</td>\n",
       "      <td>-0.024902</td>\n",
       "      <td>-0.017162</td>\n",
       "      <td>-0.010625</td>\n",
       "      <td>1.0</td>\n",
       "    </tr>\n",
       "    <tr>\n",
       "      <th>NaN</th>\n",
       "      <td>10299.0</td>\n",
       "      <td>-0.108925</td>\n",
       "      <td>0.053033</td>\n",
       "      <td>-1.0</td>\n",
       "      <td>-0.121019</td>\n",
       "      <td>-0.108596</td>\n",
       "      <td>-0.097589</td>\n",
       "      <td>1.0</td>\n",
       "    </tr>\n",
       "    <tr>\n",
       "      <th>NaN</th>\n",
       "      <td>10299.0</td>\n",
       "      <td>-0.607784</td>\n",
       "      <td>0.438694</td>\n",
       "      <td>-1.0</td>\n",
       "      <td>-0.992360</td>\n",
       "      <td>-0.943030</td>\n",
       "      <td>-0.250293</td>\n",
       "      <td>1.0</td>\n",
       "    </tr>\n",
       "    <tr>\n",
       "      <th>NaN</th>\n",
       "      <td>10299.0</td>\n",
       "      <td>-0.510191</td>\n",
       "      <td>0.500240</td>\n",
       "      <td>-1.0</td>\n",
       "      <td>-0.976990</td>\n",
       "      <td>-0.835032</td>\n",
       "      <td>-0.057336</td>\n",
       "      <td>1.0</td>\n",
       "    </tr>\n",
       "  </tbody>\n",
       "</table>\n",
       "</div>"
      ],
      "text/plain": [
       "       count      mean       std  min       25%       50%       75%  max\n",
       "NaN  10299.0  0.274347  0.067628 -1.0  0.262625  0.277174  0.288354  1.0\n",
       "NaN  10299.0 -0.017743  0.037128 -1.0 -0.024902 -0.017162 -0.010625  1.0\n",
       "NaN  10299.0 -0.108925  0.053033 -1.0 -0.121019 -0.108596 -0.097589  1.0\n",
       "NaN  10299.0 -0.607784  0.438694 -1.0 -0.992360 -0.943030 -0.250293  1.0\n",
       "NaN  10299.0 -0.510191  0.500240 -1.0 -0.976990 -0.835032 -0.057336  1.0"
      ]
     },
     "execution_count": 9,
     "metadata": {},
     "output_type": "execute_result"
    }
   ],
   "source": [
    "# Display summary statistics of the features\n",
    "X.describe().transpose().head()"
   ]
  },
  {
   "cell_type": "code",
   "execution_count": 13,
   "metadata": {},
   "outputs": [
    {
     "data": {
      "image/png": "[encoded data removed]",
      "text/plain": [
       "<Figure size 800x400 with 1 Axes>"
      ]
     },
     "metadata": {},
     "output_type": "display_data"
    }
   ],
   "source": [
    "import matplotlib.pyplot as plt\n",
    "import seaborn as sns\n",
    "\n",
    "# Plot the distribution of the target classes\n",
    "plt.figure(figsize=(8, 4))\n",
    "sns.countplot(x=y['target'])\n",
    "plt.title('Distribution of Target Classes')\n",
    "plt.xlabel('Target')\n",
    "plt.ylabel('Count')\n",
    "plt.show()"
   ]
  },
  {
   "cell_type": "markdown",
   "metadata": {},
   "source": [
    "## 3. Data Preprocessing\n",
    "\n",
    "Standardize the features using StandardScaler."
   ]
  },
  {
   "cell_type": "code",
   "execution_count": 20,
   "metadata": {},
   "outputs": [],
   "source": [
    "# Convert all column names to strings\n",
    "X.columns = X.columns.astype(str)\n",
    "\n",
    "# Now initialize the scaler and scale the feature matrix\n",
    "from sklearn.preprocessing import StandardScaler\n",
    "scaler = StandardScaler()\n",
    "X_scaled = scaler.fit_transform(X)\n"
   ]
  },
  {
   "cell_type": "markdown",
   "metadata": {},
   "source": [
    "## 4. Train/Test Split\n",
    "\n",
    "Split the scaled data into training and test sets (80% train, 20% test)."
   ]
  },
  {
   "cell_type": "code",
   "execution_count": 21,
   "metadata": {},
   "outputs": [
    {
     "name": "stdout",
     "output_type": "stream",
     "text": [
      "Training set shape: (8239, 561)\n",
      "Test set shape: (2060, 561)\n"
     ]
    }
   ],
   "source": [
    "X_train, X_test, y_train, y_test = train_test_split(\n",
    "    X_scaled, y, test_size=0.2, random_state=42, stratify=y\n",
    ")\n",
    "\n",
    "print(\"Training set shape:\", X_train.shape)\n",
    "print(\"Test set shape:\", X_test.shape)"
   ]
  },
  {
   "cell_type": "markdown",
   "metadata": {},
   "source": [
    "## 5. Model Training and Evaluation\n",
    "\n",
    "Define a helper function to evaluate models with accuracy, classification report, and confusion matrix."
   ]
  },
  {
   "cell_type": "code",
   "execution_count": 22,
   "metadata": {},
   "outputs": [],
   "source": [
    "def evaluate_model(model, X_test, y_test, model_name):\n",
    "    \"\"\"\n",
    "    Evaluate the given model on the test data.\n",
    "    \"\"\"\n",
    "    y_pred = model.predict(X_test)\n",
    "    print(f\"--- {model_name} ---\")\n",
    "    print(\"Accuracy: {:.4f}\".format(accuracy_score(y_test, y_pred)))\n",
    "    print(\"\\nClassification Report:\\n\", classification_report(y_test, y_pred))\n",
    "    \n",
    "    cm = confusion_matrix(y_test, y_pred)\n",
    "    plt.figure(figsize=(8,6))\n",
    "    sns.heatmap(cm, annot=True, fmt='d', cmap='Blues')\n",
    "    plt.title(f'{model_name} Confusion Matrix')\n",
    "    plt.xlabel('Predicted')\n",
    "    plt.ylabel('True')\n",
    "    plt.show()"
   ]
  },
  {
   "cell_type": "markdown",
   "metadata": {},
   "source": [
    "## 5.1 Support Vector Machine (SVM)\n",
    "\n",
    "Using the RBF kernel and 5-fold cross-validation."
   ]
  },
  {
   "cell_type": "code",
   "execution_count": 23,
   "metadata": {},
   "outputs": [
    {
     "name": "stdout",
     "output_type": "stream",
     "text": [
      "SVM Cross-Validation Accuracy: 0.9739\n",
      "--- SVM ---\n",
      "Accuracy: 0.9786\n",
      "\n",
      "Classification Report:\n",
      "               precision    recall  f1-score   support\n",
      "\n",
      "           1       1.00      1.00      1.00       344\n",
      "           2       0.99      0.99      0.99       309\n",
      "           3       0.98      0.99      0.99       281\n",
      "           4       0.94      0.96      0.95       356\n",
      "           5       0.96      0.94      0.95       381\n",
      "           6       1.00      0.99      1.00       389\n",
      "\n",
      "    accuracy                           0.98      2060\n",
      "   macro avg       0.98      0.98      0.98      2060\n",
      "weighted avg       0.98      0.98      0.98      2060\n",
      "\n"
     ]
    },
    {
     "data": {
      "image/png": "[encoded data removed]",
      "text/plain": [
       "<Figure size 800x600 with 2 Axes>"
      ]
     },
     "metadata": {},
     "output_type": "display_data"
    }
   ],
   "source": [
    "# Initialize SVM model with RBF kernel\n",
    "svm_model = SVC(kernel='rbf', random_state=42)\n",
    "svm_cv_scores = cross_val_score(svm_model, X_train, y_train.values.ravel(), cv=5)\n",
    "print(\"SVM Cross-Validation Accuracy: {:.4f}\".format(svm_cv_scores.mean()))\n",
    "\n",
    "# Train and evaluate on test data\n",
    "svm_model.fit(X_train, y_train.values.ravel())\n",
    "evaluate_model(svm_model, X_test, y_test.values.ravel(), \"SVM\")"
   ]
  },
  {
   "cell_type": "code",
   "execution_count": null,
   "metadata": {},
   "outputs": [],
   "source": []
  }
 ],
 "metadata": {
  "kernelspec": {
   "display_name": "base",
   "language": "python",
   "name": "python3"
  },
  "language_info": {
   "codemirror_mode": {
    "name": "ipython",
    "version": 3
   },
   "file_extension": ".py",
   "mimetype": "text/x-python",
   "name": "python",
   "nbconvert_exporter": "python",
   "pygments_lexer": "ipython3",
   "version": "3.12.3"
  }
 },
 "nbformat": 4,
 "nbformat_minor": 2
}
